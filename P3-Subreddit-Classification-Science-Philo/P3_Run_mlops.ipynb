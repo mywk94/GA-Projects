{
 "cells": [
  {
   "cell_type": "code",
   "execution_count": null,
   "id": "a7a82e27-6546-42a3-80bb-c1c5f376aa91",
   "metadata": {},
   "outputs": [
    {
     "name": "stdout",
     "output_type": "stream",
     "text": [
      "[2022-10-12 16:45:18 +0800] [29704] [INFO] Starting gunicorn 20.1.0\n",
      "[2022-10-12 16:45:18 +0800] [29704] [INFO] Listening at: http://127.0.0.1:5000 (29704)\n",
      "[2022-10-12 16:45:18 +0800] [29704] [INFO] Using worker: sync\n",
      "[2022-10-12 16:45:18 +0800] [29706] [INFO] Booting worker with pid: 29706\n"
     ]
    }
   ],
   "source": [
    "import mlflow\n",
    "! mlflow ui --backend-store-uri sqlite:///mlflow.db"
   ]
  }
 ],
 "metadata": {
  "kernelspec": {
   "display_name": "Python 3 (ipykernel)",
   "language": "python",
   "name": "python3"
  },
  "language_info": {
   "codemirror_mode": {
    "name": "ipython",
    "version": 3
   },
   "file_extension": ".py",
   "mimetype": "text/x-python",
   "name": "python",
   "nbconvert_exporter": "python",
   "pygments_lexer": "ipython3",
   "version": "3.8.13"
  }
 },
 "nbformat": 4,
 "nbformat_minor": 5
}
